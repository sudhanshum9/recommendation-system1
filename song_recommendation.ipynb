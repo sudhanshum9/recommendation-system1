{
 "cells": [
  {
   "cell_type": "code",
   "execution_count": 0,
   "metadata": {
    "colab": {},
    "colab_type": "code",
    "id": "jm01-Ahg8hoy"
   },
   "outputs": [],
   "source": [
    "import pandas as pd\n",
    "from sklearn.model_selection import train_test_split"
   ]
  },
  {
   "cell_type": "code",
   "execution_count": 0,
   "metadata": {
    "colab": {},
    "colab_type": "code",
    "id": "L5UDrGoi8qKs"
   },
   "outputs": [],
   "source": [
    "triplets_file = 'https://static.turi.com/datasets/millionsong/10000.txt'"
   ]
  },
  {
   "cell_type": "code",
   "execution_count": 0,
   "metadata": {
    "colab": {},
    "colab_type": "code",
    "id": "MtVyxg9N80NG"
   },
   "outputs": [],
   "source": [
    "song_df_1 = pd.read_table(triplets_file,header=None)\n",
    "song_df_1.columns = ['user_id', 'song_id', 'listen_count']"
   ]
  },
  {
   "cell_type": "code",
   "execution_count": 6,
   "metadata": {
    "colab": {
     "base_uri": "https://localhost:8080/",
     "height": 34
    },
    "colab_type": "code",
    "executionInfo": {
     "elapsed": 2634,
     "status": "ok",
     "timestamp": 1575262365106,
     "user": {
      "displayName": "Sudhanshu Mathur",
      "photoUrl": "",
      "userId": "14021574109591983415"
     },
     "user_tz": -330
    },
    "id": "UhT-FpsJ81G2",
    "outputId": "8bc34bfa-2d35-45b9-d2bf-69007dac8d78"
   },
   "outputs": [
    {
     "data": {
      "text/plain": [
       "Index(['user_id', 'song_id', 'listen_count'], dtype='object')"
      ]
     },
     "execution_count": 6,
     "metadata": {
      "tags": []
     },
     "output_type": "execute_result"
    }
   ],
   "source": [
    "song_df_1.columns"
   ]
  },
  {
   "cell_type": "code",
   "execution_count": 7,
   "metadata": {
    "colab": {
     "base_uri": "https://localhost:8080/",
     "height": 195
    },
    "colab_type": "code",
    "executionInfo": {
     "elapsed": 1617,
     "status": "ok",
     "timestamp": 1575262395805,
     "user": {
      "displayName": "Sudhanshu Mathur",
      "photoUrl": "",
      "userId": "14021574109591983415"
     },
     "user_tz": -330
    },
    "id": "NxnNWStC89E0",
    "outputId": "eb8bda9a-a02c-4cd1-cca8-a59fa20cd260"
   },
   "outputs": [
    {
     "data": {
      "text/html": [
       "<div>\n",
       "<style scoped>\n",
       "    .dataframe tbody tr th:only-of-type {\n",
       "        vertical-align: middle;\n",
       "    }\n",
       "\n",
       "    .dataframe tbody tr th {\n",
       "        vertical-align: top;\n",
       "    }\n",
       "\n",
       "    .dataframe thead th {\n",
       "        text-align: right;\n",
       "    }\n",
       "</style>\n",
       "<table border=\"1\" class=\"dataframe\">\n",
       "  <thead>\n",
       "    <tr style=\"text-align: right;\">\n",
       "      <th></th>\n",
       "      <th>user_id</th>\n",
       "      <th>song_id</th>\n",
       "      <th>listen_count</th>\n",
       "    </tr>\n",
       "  </thead>\n",
       "  <tbody>\n",
       "    <tr>\n",
       "      <th>0</th>\n",
       "      <td>b80344d063b5ccb3212f76538f3d9e43d87dca9e</td>\n",
       "      <td>SOAKIMP12A8C130995</td>\n",
       "      <td>1</td>\n",
       "    </tr>\n",
       "    <tr>\n",
       "      <th>1</th>\n",
       "      <td>b80344d063b5ccb3212f76538f3d9e43d87dca9e</td>\n",
       "      <td>SOBBMDR12A8C13253B</td>\n",
       "      <td>2</td>\n",
       "    </tr>\n",
       "    <tr>\n",
       "      <th>2</th>\n",
       "      <td>b80344d063b5ccb3212f76538f3d9e43d87dca9e</td>\n",
       "      <td>SOBXHDL12A81C204C0</td>\n",
       "      <td>1</td>\n",
       "    </tr>\n",
       "    <tr>\n",
       "      <th>3</th>\n",
       "      <td>b80344d063b5ccb3212f76538f3d9e43d87dca9e</td>\n",
       "      <td>SOBYHAJ12A6701BF1D</td>\n",
       "      <td>1</td>\n",
       "    </tr>\n",
       "    <tr>\n",
       "      <th>4</th>\n",
       "      <td>b80344d063b5ccb3212f76538f3d9e43d87dca9e</td>\n",
       "      <td>SODACBL12A8C13C273</td>\n",
       "      <td>1</td>\n",
       "    </tr>\n",
       "  </tbody>\n",
       "</table>\n",
       "</div>"
      ],
      "text/plain": [
       "                                    user_id             song_id  listen_count\n",
       "0  b80344d063b5ccb3212f76538f3d9e43d87dca9e  SOAKIMP12A8C130995             1\n",
       "1  b80344d063b5ccb3212f76538f3d9e43d87dca9e  SOBBMDR12A8C13253B             2\n",
       "2  b80344d063b5ccb3212f76538f3d9e43d87dca9e  SOBXHDL12A81C204C0             1\n",
       "3  b80344d063b5ccb3212f76538f3d9e43d87dca9e  SOBYHAJ12A6701BF1D             1\n",
       "4  b80344d063b5ccb3212f76538f3d9e43d87dca9e  SODACBL12A8C13C273             1"
      ]
     },
     "execution_count": 7,
     "metadata": {
      "tags": []
     },
     "output_type": "execute_result"
    }
   ],
   "source": [
    "song_df_1.head()"
   ]
  },
  {
   "cell_type": "code",
   "execution_count": 0,
   "metadata": {
    "colab": {},
    "colab_type": "code",
    "id": "bTPy8LGK9IZE"
   },
   "outputs": [],
   "source": [
    "songs_metadata_file = 'https://static.turi.com/datasets/millionsong/song_data.csv'"
   ]
  },
  {
   "cell_type": "code",
   "execution_count": 0,
   "metadata": {
    "colab": {},
    "colab_type": "code",
    "id": "sI5H_6TF9N7S"
   },
   "outputs": [],
   "source": [
    "song_df_2 =  pd.read_csv(songs_metadata_file)"
   ]
  },
  {
   "cell_type": "code",
   "execution_count": 15,
   "metadata": {
    "colab": {
     "base_uri": "https://localhost:8080/",
     "height": 195
    },
    "colab_type": "code",
    "executionInfo": {
     "elapsed": 1645,
     "status": "ok",
     "timestamp": 1575262890498,
     "user": {
      "displayName": "Sudhanshu Mathur",
      "photoUrl": "",
      "userId": "14021574109591983415"
     },
     "user_tz": -330
    },
    "id": "XyYPZVei-_i3",
    "outputId": "6f0e14c4-a3c2-4b7b-f3cc-fec159d23351"
   },
   "outputs": [
    {
     "data": {
      "text/html": [
       "<div>\n",
       "<style scoped>\n",
       "    .dataframe tbody tr th:only-of-type {\n",
       "        vertical-align: middle;\n",
       "    }\n",
       "\n",
       "    .dataframe tbody tr th {\n",
       "        vertical-align: top;\n",
       "    }\n",
       "\n",
       "    .dataframe thead th {\n",
       "        text-align: right;\n",
       "    }\n",
       "</style>\n",
       "<table border=\"1\" class=\"dataframe\">\n",
       "  <thead>\n",
       "    <tr style=\"text-align: right;\">\n",
       "      <th></th>\n",
       "      <th>song_id</th>\n",
       "      <th>title</th>\n",
       "      <th>release</th>\n",
       "      <th>artist_name</th>\n",
       "      <th>year</th>\n",
       "    </tr>\n",
       "  </thead>\n",
       "  <tbody>\n",
       "    <tr>\n",
       "      <th>0</th>\n",
       "      <td>SOQMMHC12AB0180CB8</td>\n",
       "      <td>Silent Night</td>\n",
       "      <td>Monster Ballads X-Mas</td>\n",
       "      <td>Faster Pussy cat</td>\n",
       "      <td>2003</td>\n",
       "    </tr>\n",
       "    <tr>\n",
       "      <th>1</th>\n",
       "      <td>SOVFVAK12A8C1350D9</td>\n",
       "      <td>Tanssi vaan</td>\n",
       "      <td>Karkuteillä</td>\n",
       "      <td>Karkkiautomaatti</td>\n",
       "      <td>1995</td>\n",
       "    </tr>\n",
       "    <tr>\n",
       "      <th>2</th>\n",
       "      <td>SOGTUKN12AB017F4F1</td>\n",
       "      <td>No One Could Ever</td>\n",
       "      <td>Butter</td>\n",
       "      <td>Hudson Mohawke</td>\n",
       "      <td>2006</td>\n",
       "    </tr>\n",
       "    <tr>\n",
       "      <th>3</th>\n",
       "      <td>SOBNYVR12A8C13558C</td>\n",
       "      <td>Si Vos Querés</td>\n",
       "      <td>De Culo</td>\n",
       "      <td>Yerba Brava</td>\n",
       "      <td>2003</td>\n",
       "    </tr>\n",
       "    <tr>\n",
       "      <th>4</th>\n",
       "      <td>SOHSBXH12A8C13B0DF</td>\n",
       "      <td>Tangle Of Aspens</td>\n",
       "      <td>Rene Ablaze Presents Winter Sessions</td>\n",
       "      <td>Der Mystic</td>\n",
       "      <td>0</td>\n",
       "    </tr>\n",
       "  </tbody>\n",
       "</table>\n",
       "</div>"
      ],
      "text/plain": [
       "              song_id              title  ...       artist_name  year\n",
       "0  SOQMMHC12AB0180CB8       Silent Night  ...  Faster Pussy cat  2003\n",
       "1  SOVFVAK12A8C1350D9        Tanssi vaan  ...  Karkkiautomaatti  1995\n",
       "2  SOGTUKN12AB017F4F1  No One Could Ever  ...    Hudson Mohawke  2006\n",
       "3  SOBNYVR12A8C13558C      Si Vos Querés  ...       Yerba Brava  2003\n",
       "4  SOHSBXH12A8C13B0DF   Tangle Of Aspens  ...        Der Mystic     0\n",
       "\n",
       "[5 rows x 5 columns]"
      ]
     },
     "execution_count": 15,
     "metadata": {
      "tags": []
     },
     "output_type": "execute_result"
    }
   ],
   "source": [
    "song_df_2.head()"
   ]
  },
  {
   "cell_type": "code",
   "execution_count": 16,
   "metadata": {
    "colab": {
     "base_uri": "https://localhost:8080/",
     "height": 34
    },
    "colab_type": "code",
    "executionInfo": {
     "elapsed": 2227,
     "status": "ok",
     "timestamp": 1575262915291,
     "user": {
      "displayName": "Sudhanshu Mathur",
      "photoUrl": "",
      "userId": "14021574109591983415"
     },
     "user_tz": -330
    },
    "id": "M1OZ_nzk_FdO",
    "outputId": "b96f5645-320c-4e13-c239-94796820d695"
   },
   "outputs": [
    {
     "data": {
      "text/plain": [
       "Index(['song_id', 'title', 'release', 'artist_name', 'year'], dtype='object')"
      ]
     },
     "execution_count": 16,
     "metadata": {
      "tags": []
     },
     "output_type": "execute_result"
    }
   ],
   "source": [
    "song_df_2.columns"
   ]
  },
  {
   "cell_type": "code",
   "execution_count": 0,
   "metadata": {
    "colab": {},
    "colab_type": "code",
    "id": "1xKmcFYG-yCz"
   },
   "outputs": [],
   "source": [
    "song_df = pd.merge(song_df_1, song_df_2.drop_duplicates(['song_id']), on=\"song_id\", how=\"left\")"
   ]
  },
  {
   "cell_type": "code",
   "execution_count": 19,
   "metadata": {
    "colab": {
     "base_uri": "https://localhost:8080/",
     "height": 195
    },
    "colab_type": "code",
    "executionInfo": {
     "elapsed": 2029,
     "status": "ok",
     "timestamp": 1575262969343,
     "user": {
      "displayName": "Sudhanshu Mathur",
      "photoUrl": "",
      "userId": "14021574109591983415"
     },
     "user_tz": -330
    },
    "id": "Bnj5KvUj-zQr",
    "outputId": "6b0ba75c-c54a-40fd-a3f2-f166d79b96d8"
   },
   "outputs": [
    {
     "data": {
      "text/html": [
       "<div>\n",
       "<style scoped>\n",
       "    .dataframe tbody tr th:only-of-type {\n",
       "        vertical-align: middle;\n",
       "    }\n",
       "\n",
       "    .dataframe tbody tr th {\n",
       "        vertical-align: top;\n",
       "    }\n",
       "\n",
       "    .dataframe thead th {\n",
       "        text-align: right;\n",
       "    }\n",
       "</style>\n",
       "<table border=\"1\" class=\"dataframe\">\n",
       "  <thead>\n",
       "    <tr style=\"text-align: right;\">\n",
       "      <th></th>\n",
       "      <th>user_id</th>\n",
       "      <th>song_id</th>\n",
       "      <th>listen_count</th>\n",
       "      <th>title</th>\n",
       "      <th>release</th>\n",
       "      <th>artist_name</th>\n",
       "      <th>year</th>\n",
       "    </tr>\n",
       "  </thead>\n",
       "  <tbody>\n",
       "    <tr>\n",
       "      <th>0</th>\n",
       "      <td>b80344d063b5ccb3212f76538f3d9e43d87dca9e</td>\n",
       "      <td>SOAKIMP12A8C130995</td>\n",
       "      <td>1</td>\n",
       "      <td>The Cove</td>\n",
       "      <td>Thicker Than Water</td>\n",
       "      <td>Jack Johnson</td>\n",
       "      <td>0</td>\n",
       "    </tr>\n",
       "    <tr>\n",
       "      <th>1</th>\n",
       "      <td>b80344d063b5ccb3212f76538f3d9e43d87dca9e</td>\n",
       "      <td>SOBBMDR12A8C13253B</td>\n",
       "      <td>2</td>\n",
       "      <td>Entre Dos Aguas</td>\n",
       "      <td>Flamenco Para Niños</td>\n",
       "      <td>Paco De Lucia</td>\n",
       "      <td>1976</td>\n",
       "    </tr>\n",
       "    <tr>\n",
       "      <th>2</th>\n",
       "      <td>b80344d063b5ccb3212f76538f3d9e43d87dca9e</td>\n",
       "      <td>SOBXHDL12A81C204C0</td>\n",
       "      <td>1</td>\n",
       "      <td>Stronger</td>\n",
       "      <td>Graduation</td>\n",
       "      <td>Kanye West</td>\n",
       "      <td>2007</td>\n",
       "    </tr>\n",
       "    <tr>\n",
       "      <th>3</th>\n",
       "      <td>b80344d063b5ccb3212f76538f3d9e43d87dca9e</td>\n",
       "      <td>SOBYHAJ12A6701BF1D</td>\n",
       "      <td>1</td>\n",
       "      <td>Constellations</td>\n",
       "      <td>In Between Dreams</td>\n",
       "      <td>Jack Johnson</td>\n",
       "      <td>2005</td>\n",
       "    </tr>\n",
       "    <tr>\n",
       "      <th>4</th>\n",
       "      <td>b80344d063b5ccb3212f76538f3d9e43d87dca9e</td>\n",
       "      <td>SODACBL12A8C13C273</td>\n",
       "      <td>1</td>\n",
       "      <td>Learn To Fly</td>\n",
       "      <td>There Is Nothing Left To Lose</td>\n",
       "      <td>Foo Fighters</td>\n",
       "      <td>1999</td>\n",
       "    </tr>\n",
       "  </tbody>\n",
       "</table>\n",
       "</div>"
      ],
      "text/plain": [
       "                                    user_id  ...  year\n",
       "0  b80344d063b5ccb3212f76538f3d9e43d87dca9e  ...     0\n",
       "1  b80344d063b5ccb3212f76538f3d9e43d87dca9e  ...  1976\n",
       "2  b80344d063b5ccb3212f76538f3d9e43d87dca9e  ...  2007\n",
       "3  b80344d063b5ccb3212f76538f3d9e43d87dca9e  ...  2005\n",
       "4  b80344d063b5ccb3212f76538f3d9e43d87dca9e  ...  1999\n",
       "\n",
       "[5 rows x 7 columns]"
      ]
     },
     "execution_count": 19,
     "metadata": {
      "tags": []
     },
     "output_type": "execute_result"
    }
   ],
   "source": [
    "song_df.head()"
   ]
  },
  {
   "cell_type": "code",
   "execution_count": 20,
   "metadata": {
    "colab": {
     "base_uri": "https://localhost:8080/",
     "height": 34
    },
    "colab_type": "code",
    "executionInfo": {
     "elapsed": 2239,
     "status": "ok",
     "timestamp": 1575262996890,
     "user": {
      "displayName": "Sudhanshu Mathur",
      "photoUrl": "",
      "userId": "14021574109591983415"
     },
     "user_tz": -330
    },
    "id": "3xILYbpN-z21",
    "outputId": "24f97258-a947-45aa-f1d2-68f5b61f8b18"
   },
   "outputs": [
    {
     "data": {
      "text/plain": [
       "2000000"
      ]
     },
     "execution_count": 20,
     "metadata": {
      "tags": []
     },
     "output_type": "execute_result"
    }
   ],
   "source": [
    "len(song_df)"
   ]
  },
  {
   "cell_type": "code",
   "execution_count": 0,
   "metadata": {
    "colab": {},
    "colab_type": "code",
    "id": "ZtG7wmUC_bxC"
   },
   "outputs": [],
   "source": [
    "song_df['song'] = song_df['song_id'] +' - ' +song_df['artist_name']"
   ]
  },
  {
   "cell_type": "code",
   "execution_count": 38,
   "metadata": {
    "colab": {
     "base_uri": "https://localhost:8080/",
     "height": 218
    },
    "colab_type": "code",
    "executionInfo": {
     "elapsed": 6634,
     "status": "ok",
     "timestamp": 1575263577931,
     "user": {
      "displayName": "Sudhanshu Mathur",
      "photoUrl": "",
      "userId": "14021574109591983415"
     },
     "user_tz": -330
    },
    "id": "S567iV9Y_zkx",
    "outputId": "83ea8624-5011-487b-ccd0-361bf5593755"
   },
   "outputs": [
    {
     "data": {
      "text/plain": [
       "0                          SOAKIMP12A8C130995 - Jack Johnson\n",
       "1                         SOBBMDR12A8C13253B - Paco De Lucia\n",
       "2                            SOBXHDL12A81C204C0 - Kanye West\n",
       "3                          SOBYHAJ12A6701BF1D - Jack Johnson\n",
       "4                          SODACBL12A8C13C273 - Foo Fighters\n",
       "                                 ...                        \n",
       "1999995                        SOJEYPO12AAA8C6B0E - Paramore\n",
       "1999996    SOJJYDE12AF729FC16 - Boys Like Girls featuring...\n",
       "1999997                     SOJKQSF12A6D4F5EE9 - Linkin Park\n",
       "1999998                   SOJUXGA12AC961885C - Justin Bieber\n",
       "1999999                  SOJYOLS12A8C13C06F - Tegan And Sara\n",
       "Name: song, Length: 2000000, dtype: object"
      ]
     },
     "execution_count": 38,
     "metadata": {
      "tags": []
     },
     "output_type": "execute_result"
    }
   ],
   "source": [
    "song_df['song']"
   ]
  },
  {
   "cell_type": "code",
   "execution_count": 0,
   "metadata": {
    "colab": {},
    "colab_type": "code",
    "id": "vBWaV29b_35L"
   },
   "outputs": [],
   "source": [
    "song_grouped = song_df.groupby(['song']).agg({'listen_count': 'count'}).reset_index()"
   ]
  },
  {
   "cell_type": "code",
   "execution_count": 40,
   "metadata": {
    "colab": {
     "base_uri": "https://localhost:8080/",
     "height": 195
    },
    "colab_type": "code",
    "executionInfo": {
     "elapsed": 1450,
     "status": "ok",
     "timestamp": 1575263589026,
     "user": {
      "displayName": "Sudhanshu Mathur",
      "photoUrl": "",
      "userId": "14021574109591983415"
     },
     "user_tz": -330
    },
    "id": "DGvm0FWyABM0",
    "outputId": "d3ab90df-9329-46e6-ae92-6fd290e69814"
   },
   "outputs": [
    {
     "data": {
      "text/html": [
       "<div>\n",
       "<style scoped>\n",
       "    .dataframe tbody tr th:only-of-type {\n",
       "        vertical-align: middle;\n",
       "    }\n",
       "\n",
       "    .dataframe tbody tr th {\n",
       "        vertical-align: top;\n",
       "    }\n",
       "\n",
       "    .dataframe thead th {\n",
       "        text-align: right;\n",
       "    }\n",
       "</style>\n",
       "<table border=\"1\" class=\"dataframe\">\n",
       "  <thead>\n",
       "    <tr style=\"text-align: right;\">\n",
       "      <th></th>\n",
       "      <th>song</th>\n",
       "      <th>listen_count</th>\n",
       "    </tr>\n",
       "  </thead>\n",
       "  <tbody>\n",
       "    <tr>\n",
       "      <th>0</th>\n",
       "      <td>SOAAAGQ12A8C1420C8 - Bohren &amp; Der Club Of Gore</td>\n",
       "      <td>66</td>\n",
       "    </tr>\n",
       "    <tr>\n",
       "      <th>1</th>\n",
       "      <td>SOAACPJ12A81C21360 - Mícheál Ó Súilleabháin</td>\n",
       "      <td>147</td>\n",
       "    </tr>\n",
       "    <tr>\n",
       "      <th>2</th>\n",
       "      <td>SOAACSG12AB018DC80 - The Black Eyed Peas</td>\n",
       "      <td>67</td>\n",
       "    </tr>\n",
       "    <tr>\n",
       "      <th>3</th>\n",
       "      <td>SOAAEJI12AB0188AB5 - Atmosphere</td>\n",
       "      <td>62</td>\n",
       "    </tr>\n",
       "    <tr>\n",
       "      <th>4</th>\n",
       "      <td>SOAAFAC12A67ADF7EB - Morcheeba</td>\n",
       "      <td>190</td>\n",
       "    </tr>\n",
       "  </tbody>\n",
       "</table>\n",
       "</div>"
      ],
      "text/plain": [
       "                                             song  listen_count\n",
       "0  SOAAAGQ12A8C1420C8 - Bohren & Der Club Of Gore            66\n",
       "1     SOAACPJ12A81C21360 - Mícheál Ó Súilleabháin           147\n",
       "2        SOAACSG12AB018DC80 - The Black Eyed Peas            67\n",
       "3                 SOAAEJI12AB0188AB5 - Atmosphere            62\n",
       "4                  SOAAFAC12A67ADF7EB - Morcheeba           190"
      ]
     },
     "execution_count": 40,
     "metadata": {
      "tags": []
     },
     "output_type": "execute_result"
    }
   ],
   "source": [
    "song_grouped.head()"
   ]
  },
  {
   "cell_type": "code",
   "execution_count": 0,
   "metadata": {
    "colab": {},
    "colab_type": "code",
    "id": "VGrh62X6AH15"
   },
   "outputs": [],
   "source": [
    "grouped_sum = song_grouped['listen_count'].sum()"
   ]
  },
  {
   "cell_type": "code",
   "execution_count": 42,
   "metadata": {
    "colab": {
     "base_uri": "https://localhost:8080/",
     "height": 34
    },
    "colab_type": "code",
    "executionInfo": {
     "elapsed": 2109,
     "status": "ok",
     "timestamp": 1575263594486,
     "user": {
      "displayName": "Sudhanshu Mathur",
      "photoUrl": "",
      "userId": "14021574109591983415"
     },
     "user_tz": -330
    },
    "id": "JkObuRDhALNu",
    "outputId": "33327838-befb-449c-b8fd-9b7b97d59500"
   },
   "outputs": [
    {
     "data": {
      "text/plain": [
       "2000000"
      ]
     },
     "execution_count": 42,
     "metadata": {
      "tags": []
     },
     "output_type": "execute_result"
    }
   ],
   "source": [
    "grouped_sum"
   ]
  },
  {
   "cell_type": "code",
   "execution_count": 0,
   "metadata": {
    "colab": {},
    "colab_type": "code",
    "id": "sAd_AlLfAOjR"
   },
   "outputs": [],
   "source": [
    "song_grouped['percentage']  = song_grouped['listen_count'].div(grouped_sum)*100"
   ]
  },
  {
   "cell_type": "code",
   "execution_count": 44,
   "metadata": {
    "colab": {
     "base_uri": "https://localhost:8080/",
     "height": 402
    },
    "colab_type": "code",
    "executionInfo": {
     "elapsed": 1665,
     "status": "ok",
     "timestamp": 1575263600264,
     "user": {
      "displayName": "Sudhanshu Mathur",
      "photoUrl": "",
      "userId": "14021574109591983415"
     },
     "user_tz": -330
    },
    "id": "07gub-5YAWGr",
    "outputId": "f02fa2ce-c201-4ce4-a37c-cb57dac25a90"
   },
   "outputs": [
    {
     "data": {
      "text/html": [
       "<div>\n",
       "<style scoped>\n",
       "    .dataframe tbody tr th:only-of-type {\n",
       "        vertical-align: middle;\n",
       "    }\n",
       "\n",
       "    .dataframe tbody tr th {\n",
       "        vertical-align: top;\n",
       "    }\n",
       "\n",
       "    .dataframe thead th {\n",
       "        text-align: right;\n",
       "    }\n",
       "</style>\n",
       "<table border=\"1\" class=\"dataframe\">\n",
       "  <thead>\n",
       "    <tr style=\"text-align: right;\">\n",
       "      <th></th>\n",
       "      <th>song</th>\n",
       "      <th>listen_count</th>\n",
       "      <th>percentage</th>\n",
       "    </tr>\n",
       "  </thead>\n",
       "  <tbody>\n",
       "    <tr>\n",
       "      <th>0</th>\n",
       "      <td>SOAAAGQ12A8C1420C8 - Bohren &amp; Der Club Of Gore</td>\n",
       "      <td>66</td>\n",
       "      <td>0.00330</td>\n",
       "    </tr>\n",
       "    <tr>\n",
       "      <th>1</th>\n",
       "      <td>SOAACPJ12A81C21360 - Mícheál Ó Súilleabháin</td>\n",
       "      <td>147</td>\n",
       "      <td>0.00735</td>\n",
       "    </tr>\n",
       "    <tr>\n",
       "      <th>2</th>\n",
       "      <td>SOAACSG12AB018DC80 - The Black Eyed Peas</td>\n",
       "      <td>67</td>\n",
       "      <td>0.00335</td>\n",
       "    </tr>\n",
       "    <tr>\n",
       "      <th>3</th>\n",
       "      <td>SOAAEJI12AB0188AB5 - Atmosphere</td>\n",
       "      <td>62</td>\n",
       "      <td>0.00310</td>\n",
       "    </tr>\n",
       "    <tr>\n",
       "      <th>4</th>\n",
       "      <td>SOAAFAC12A67ADF7EB - Morcheeba</td>\n",
       "      <td>190</td>\n",
       "      <td>0.00950</td>\n",
       "    </tr>\n",
       "    <tr>\n",
       "      <th>...</th>\n",
       "      <td>...</td>\n",
       "      <td>...</td>\n",
       "      <td>...</td>\n",
       "    </tr>\n",
       "    <tr>\n",
       "      <th>9995</th>\n",
       "      <td>SOZZTNF12A8C139916 - Ste Strausz</td>\n",
       "      <td>270</td>\n",
       "      <td>0.01350</td>\n",
       "    </tr>\n",
       "    <tr>\n",
       "      <th>9996</th>\n",
       "      <td>SOZZVWB12AB0189C30 - Marco V</td>\n",
       "      <td>138</td>\n",
       "      <td>0.00690</td>\n",
       "    </tr>\n",
       "    <tr>\n",
       "      <th>9997</th>\n",
       "      <td>SOZZWZV12A67AE140F - The Fratellis</td>\n",
       "      <td>119</td>\n",
       "      <td>0.00595</td>\n",
       "    </tr>\n",
       "    <tr>\n",
       "      <th>9998</th>\n",
       "      <td>SOZZYAO12A6701FF36 - Fatboy Slim</td>\n",
       "      <td>76</td>\n",
       "      <td>0.00380</td>\n",
       "    </tr>\n",
       "    <tr>\n",
       "      <th>9999</th>\n",
       "      <td>SOZZZPV12A8C1444B5 - Blacks ft. P Money</td>\n",
       "      <td>71</td>\n",
       "      <td>0.00355</td>\n",
       "    </tr>\n",
       "  </tbody>\n",
       "</table>\n",
       "<p>10000 rows × 3 columns</p>\n",
       "</div>"
      ],
      "text/plain": [
       "                                                song  listen_count  percentage\n",
       "0     SOAAAGQ12A8C1420C8 - Bohren & Der Club Of Gore            66     0.00330\n",
       "1        SOAACPJ12A81C21360 - Mícheál Ó Súilleabháin           147     0.00735\n",
       "2           SOAACSG12AB018DC80 - The Black Eyed Peas            67     0.00335\n",
       "3                    SOAAEJI12AB0188AB5 - Atmosphere            62     0.00310\n",
       "4                     SOAAFAC12A67ADF7EB - Morcheeba           190     0.00950\n",
       "...                                              ...           ...         ...\n",
       "9995                SOZZTNF12A8C139916 - Ste Strausz           270     0.01350\n",
       "9996                    SOZZVWB12AB0189C30 - Marco V           138     0.00690\n",
       "9997              SOZZWZV12A67AE140F - The Fratellis           119     0.00595\n",
       "9998                SOZZYAO12A6701FF36 - Fatboy Slim            76     0.00380\n",
       "9999         SOZZZPV12A8C1444B5 - Blacks ft. P Money            71     0.00355\n",
       "\n",
       "[10000 rows x 3 columns]"
      ]
     },
     "execution_count": 44,
     "metadata": {
      "tags": []
     },
     "output_type": "execute_result"
    }
   ],
   "source": [
    "song_grouped"
   ]
  },
  {
   "cell_type": "code",
   "execution_count": 45,
   "metadata": {
    "colab": {
     "base_uri": "https://localhost:8080/",
     "height": 402
    },
    "colab_type": "code",
    "executionInfo": {
     "elapsed": 1844,
     "status": "ok",
     "timestamp": 1575263609665,
     "user": {
      "displayName": "Sudhanshu Mathur",
      "photoUrl": "",
      "userId": "14021574109591983415"
     },
     "user_tz": -330
    },
    "id": "wXXm_3pkAgFM",
    "outputId": "09c44259-e8ac-4560-becf-a24f14f02515"
   },
   "outputs": [
    {
     "data": {
      "text/html": [
       "<div>\n",
       "<style scoped>\n",
       "    .dataframe tbody tr th:only-of-type {\n",
       "        vertical-align: middle;\n",
       "    }\n",
       "\n",
       "    .dataframe tbody tr th {\n",
       "        vertical-align: top;\n",
       "    }\n",
       "\n",
       "    .dataframe thead th {\n",
       "        text-align: right;\n",
       "    }\n",
       "</style>\n",
       "<table border=\"1\" class=\"dataframe\">\n",
       "  <thead>\n",
       "    <tr style=\"text-align: right;\">\n",
       "      <th></th>\n",
       "      <th>song</th>\n",
       "      <th>listen_count</th>\n",
       "      <th>percentage</th>\n",
       "    </tr>\n",
       "  </thead>\n",
       "  <tbody>\n",
       "    <tr>\n",
       "      <th>2220</th>\n",
       "      <td>SOFRQTD12A81C233C0 - Harmonia</td>\n",
       "      <td>8277</td>\n",
       "      <td>0.41385</td>\n",
       "    </tr>\n",
       "    <tr>\n",
       "      <th>317</th>\n",
       "      <td>SOAUWYT12A81C206F1 - Björk</td>\n",
       "      <td>7032</td>\n",
       "      <td>0.35160</td>\n",
       "    </tr>\n",
       "    <tr>\n",
       "      <th>352</th>\n",
       "      <td>SOAXGDH12A8C13F8A1 - Florence + The Machine</td>\n",
       "      <td>6949</td>\n",
       "      <td>0.34745</td>\n",
       "    </tr>\n",
       "    <tr>\n",
       "      <th>614</th>\n",
       "      <td>SOBONKR12A58A7A7E0 - Dwight Yoakam</td>\n",
       "      <td>6412</td>\n",
       "      <td>0.32060</td>\n",
       "    </tr>\n",
       "    <tr>\n",
       "      <th>7416</th>\n",
       "      <td>SOSXLTC12AF72A7F54 - Kings Of Leon</td>\n",
       "      <td>6145</td>\n",
       "      <td>0.30725</td>\n",
       "    </tr>\n",
       "    <tr>\n",
       "      <th>...</th>\n",
       "      <td>...</td>\n",
       "      <td>...</td>\n",
       "      <td>...</td>\n",
       "    </tr>\n",
       "    <tr>\n",
       "      <th>4492</th>\n",
       "      <td>SOLIGVL12AB017DBAE - Ricardo Arjona</td>\n",
       "      <td>51</td>\n",
       "      <td>0.00255</td>\n",
       "    </tr>\n",
       "    <tr>\n",
       "      <th>8747</th>\n",
       "      <td>SOWNLZF12A58A79811 - Three Days Grace</td>\n",
       "      <td>51</td>\n",
       "      <td>0.00255</td>\n",
       "    </tr>\n",
       "    <tr>\n",
       "      <th>622</th>\n",
       "      <td>SOBPGWB12A6D4F7EF3 - Amparanoia</td>\n",
       "      <td>50</td>\n",
       "      <td>0.00250</td>\n",
       "    </tr>\n",
       "    <tr>\n",
       "      <th>2666</th>\n",
       "      <td>SOGSPGJ12A8C134FAA - Ladytron</td>\n",
       "      <td>48</td>\n",
       "      <td>0.00240</td>\n",
       "    </tr>\n",
       "    <tr>\n",
       "      <th>9638</th>\n",
       "      <td>SOYYBJJ12AB017E9FD - Juanes</td>\n",
       "      <td>48</td>\n",
       "      <td>0.00240</td>\n",
       "    </tr>\n",
       "  </tbody>\n",
       "</table>\n",
       "<p>10000 rows × 3 columns</p>\n",
       "</div>"
      ],
      "text/plain": [
       "                                             song  listen_count  percentage\n",
       "2220                SOFRQTD12A81C233C0 - Harmonia          8277     0.41385\n",
       "317                    SOAUWYT12A81C206F1 - Björk          7032     0.35160\n",
       "352   SOAXGDH12A8C13F8A1 - Florence + The Machine          6949     0.34745\n",
       "614            SOBONKR12A58A7A7E0 - Dwight Yoakam          6412     0.32060\n",
       "7416           SOSXLTC12AF72A7F54 - Kings Of Leon          6145     0.30725\n",
       "...                                           ...           ...         ...\n",
       "4492          SOLIGVL12AB017DBAE - Ricardo Arjona            51     0.00255\n",
       "8747        SOWNLZF12A58A79811 - Three Days Grace            51     0.00255\n",
       "622               SOBPGWB12A6D4F7EF3 - Amparanoia            50     0.00250\n",
       "2666                SOGSPGJ12A8C134FAA - Ladytron            48     0.00240\n",
       "9638                  SOYYBJJ12AB017E9FD - Juanes            48     0.00240\n",
       "\n",
       "[10000 rows x 3 columns]"
      ]
     },
     "execution_count": 45,
     "metadata": {
      "tags": []
     },
     "output_type": "execute_result"
    }
   ],
   "source": [
    "song_grouped.sort_values(['listen_count', 'song'], ascending = [0,1])"
   ]
  },
  {
   "cell_type": "code",
   "execution_count": 0,
   "metadata": {
    "colab": {},
    "colab_type": "code",
    "id": "9e-pNlORAh8r"
   },
   "outputs": [],
   "source": [
    "sorted_data=song_grouped.sort_values(['listen_count', 'song'], ascending = [0,1]).head(10)"
   ]
  },
  {
   "cell_type": "code",
   "execution_count": 47,
   "metadata": {
    "colab": {
     "base_uri": "https://localhost:8080/",
     "height": 34
    },
    "colab_type": "code",
    "executionInfo": {
     "elapsed": 2085,
     "status": "ok",
     "timestamp": 1575263619063,
     "user": {
      "displayName": "Sudhanshu Mathur",
      "photoUrl": "",
      "userId": "14021574109591983415"
     },
     "user_tz": -330
    },
    "id": "2yhYNDwFAnu0",
    "outputId": "ce2b9602-9a48-46d7-a500-36155f36601d"
   },
   "outputs": [
    {
     "data": {
      "text/plain": [
       "76353"
      ]
     },
     "execution_count": 47,
     "metadata": {
      "tags": []
     },
     "output_type": "execute_result"
    }
   ],
   "source": [
    "users = song_df['user_id'].unique()\n",
    "len(users)"
   ]
  },
  {
   "cell_type": "code",
   "execution_count": 48,
   "metadata": {
    "colab": {
     "base_uri": "https://localhost:8080/",
     "height": 118
    },
    "colab_type": "code",
    "executionInfo": {
     "elapsed": 2940,
     "status": "ok",
     "timestamp": 1575263623587,
     "user": {
      "displayName": "Sudhanshu Mathur",
      "photoUrl": "",
      "userId": "14021574109591983415"
     },
     "user_tz": -330
    },
    "id": "gzMvH0CmA6KX",
    "outputId": "b59aa6c7-6eb9-4eaa-a583-6327a615c3ae"
   },
   "outputs": [
    {
     "data": {
      "text/plain": [
       "array(['b80344d063b5ccb3212f76538f3d9e43d87dca9e',\n",
       "       '85c1f87fea955d09b4bec2e36aee110927aedf9a',\n",
       "       'bd4c6e843f00bd476847fb75c47b4fb430a06856', ...,\n",
       "       'a955513fb89fdb0d5e8437a5cf8a9b3a0abad4d5',\n",
       "       '276e43ad698705e5011e5091f367d951b21246f5',\n",
       "       'd8bfd4ec88f0f3773a9e022e3c1a0f1d3b7b6a92'], dtype=object)"
      ]
     },
     "execution_count": 48,
     "metadata": {
      "tags": []
     },
     "output_type": "execute_result"
    }
   ],
   "source": [
    "users"
   ]
  },
  {
   "cell_type": "code",
   "execution_count": 49,
   "metadata": {
    "colab": {
     "base_uri": "https://localhost:8080/",
     "height": 34
    },
    "colab_type": "code",
    "executionInfo": {
     "elapsed": 1410,
     "status": "ok",
     "timestamp": 1575263631556,
     "user": {
      "displayName": "Sudhanshu Mathur",
      "photoUrl": "",
      "userId": "14021574109591983415"
     },
     "user_tz": -330
    },
    "id": "WeKPT5GSA_Sk",
    "outputId": "74c460e4-efdc-4411-8748-d4fdad18aa9b"
   },
   "outputs": [
    {
     "data": {
      "text/plain": [
       "10000"
      ]
     },
     "execution_count": 49,
     "metadata": {
      "tags": []
     },
     "output_type": "execute_result"
    }
   ],
   "source": [
    "songs = song_df['song'].unique()\n",
    "len(songs)"
   ]
  },
  {
   "cell_type": "code",
   "execution_count": 50,
   "metadata": {
    "colab": {
     "base_uri": "https://localhost:8080/",
     "height": 118
    },
    "colab_type": "code",
    "executionInfo": {
     "elapsed": 1825,
     "status": "ok",
     "timestamp": 1575263636063,
     "user": {
      "displayName": "Sudhanshu Mathur",
      "photoUrl": "",
      "userId": "14021574109591983415"
     },
     "user_tz": -330
    },
    "id": "gXbDK2IYBE6r",
    "outputId": "db0b1f07-75da-4c8a-eea0-2787593ba431"
   },
   "outputs": [
    {
     "data": {
      "text/plain": [
       "array(['SOAKIMP12A8C130995 - Jack Johnson',\n",
       "       'SOBBMDR12A8C13253B - Paco De Lucia',\n",
       "       'SOBXHDL12A81C204C0 - Kanye West', ...,\n",
       "       'SOXWEPM12AB0181694 - Owl City',\n",
       "       'SOGYQGZ12AB017E08A - Silvio Rodríguez',\n",
       "       'SOPBPHJ12AAF3B59B6 - Michael Bublé'], dtype=object)"
      ]
     },
     "execution_count": 50,
     "metadata": {
      "tags": []
     },
     "output_type": "execute_result"
    }
   ],
   "source": [
    "songs"
   ]
  },
  {
   "cell_type": "code",
   "execution_count": 61,
   "metadata": {
    "colab": {
     "base_uri": "https://localhost:8080/",
     "height": 195
    },
    "colab_type": "code",
    "executionInfo": {
     "elapsed": 1921,
     "status": "ok",
     "timestamp": 1575264574987,
     "user": {
      "displayName": "Sudhanshu Mathur",
      "photoUrl": "",
      "userId": "14021574109591983415"
     },
     "user_tz": -330
    },
    "id": "UbdnazNQEGYk",
    "outputId": "1976351d-37f6-4caf-b2a6-2ae0dbbd9b05"
   },
   "outputs": [
    {
     "data": {
      "text/html": [
       "<div>\n",
       "<style scoped>\n",
       "    .dataframe tbody tr th:only-of-type {\n",
       "        vertical-align: middle;\n",
       "    }\n",
       "\n",
       "    .dataframe tbody tr th {\n",
       "        vertical-align: top;\n",
       "    }\n",
       "\n",
       "    .dataframe thead th {\n",
       "        text-align: right;\n",
       "    }\n",
       "</style>\n",
       "<table border=\"1\" class=\"dataframe\">\n",
       "  <thead>\n",
       "    <tr style=\"text-align: right;\">\n",
       "      <th></th>\n",
       "      <th>song</th>\n",
       "      <th>listen_count</th>\n",
       "      <th>percentage</th>\n",
       "    </tr>\n",
       "  </thead>\n",
       "  <tbody>\n",
       "    <tr>\n",
       "      <th>2220</th>\n",
       "      <td>SOFRQTD12A81C233C0 - Harmonia</td>\n",
       "      <td>8277</td>\n",
       "      <td>0.41385</td>\n",
       "    </tr>\n",
       "    <tr>\n",
       "      <th>317</th>\n",
       "      <td>SOAUWYT12A81C206F1 - Björk</td>\n",
       "      <td>7032</td>\n",
       "      <td>0.35160</td>\n",
       "    </tr>\n",
       "    <tr>\n",
       "      <th>352</th>\n",
       "      <td>SOAXGDH12A8C13F8A1 - Florence + The Machine</td>\n",
       "      <td>6949</td>\n",
       "      <td>0.34745</td>\n",
       "    </tr>\n",
       "    <tr>\n",
       "      <th>614</th>\n",
       "      <td>SOBONKR12A58A7A7E0 - Dwight Yoakam</td>\n",
       "      <td>6412</td>\n",
       "      <td>0.32060</td>\n",
       "    </tr>\n",
       "    <tr>\n",
       "      <th>7416</th>\n",
       "      <td>SOSXLTC12AF72A7F54 - Kings Of Leon</td>\n",
       "      <td>6145</td>\n",
       "      <td>0.30725</td>\n",
       "    </tr>\n",
       "  </tbody>\n",
       "</table>\n",
       "</div>"
      ],
      "text/plain": [
       "                                             song  listen_count  percentage\n",
       "2220                SOFRQTD12A81C233C0 - Harmonia          8277     0.41385\n",
       "317                    SOAUWYT12A81C206F1 - Björk          7032     0.35160\n",
       "352   SOAXGDH12A8C13F8A1 - Florence + The Machine          6949     0.34745\n",
       "614            SOBONKR12A58A7A7E0 - Dwight Yoakam          6412     0.32060\n",
       "7416           SOSXLTC12AF72A7F54 - Kings Of Leon          6145     0.30725"
      ]
     },
     "execution_count": 61,
     "metadata": {
      "tags": []
     },
     "output_type": "execute_result"
    }
   ],
   "source": [
    "sorted_data.head()"
   ]
  },
  {
   "cell_type": "code",
   "execution_count": 0,
   "metadata": {
    "colab": {},
    "colab_type": "code",
    "id": "oWBQVZYGBGrK"
   },
   "outputs": [],
   "source": []
  },
  {
   "cell_type": "code",
   "execution_count": 0,
   "metadata": {
    "colab": {},
    "colab_type": "code",
    "id": "gU1XOjy1DBMD"
   },
   "outputs": [],
   "source": []
  },
  {
   "cell_type": "code",
   "execution_count": 0,
   "metadata": {
    "colab": {},
    "colab_type": "code",
    "id": "gWNMRMGdDb1Z"
   },
   "outputs": [],
   "source": [
    "\n"
   ]
  },
  {
   "cell_type": "code",
   "execution_count": 0,
   "metadata": {
    "colab": {},
    "colab_type": "code",
    "id": "ky8y1ZlQEtGg"
   },
   "outputs": [],
   "source": []
  }
 ],
 "metadata": {
  "colab": {
   "collapsed_sections": [],
   "name": "song_recommendation.ipynb",
   "provenance": []
  },
  "kernelspec": {
   "display_name": "Python 3",
   "language": "python",
   "name": "python3"
  },
  "language_info": {
   "codemirror_mode": {
    "name": "ipython",
    "version": 3
   },
   "file_extension": ".py",
   "mimetype": "text/x-python",
   "name": "python",
   "nbconvert_exporter": "python",
   "pygments_lexer": "ipython3",
   "version": "3.7.4"
  }
 },
 "nbformat": 4,
 "nbformat_minor": 1
}
